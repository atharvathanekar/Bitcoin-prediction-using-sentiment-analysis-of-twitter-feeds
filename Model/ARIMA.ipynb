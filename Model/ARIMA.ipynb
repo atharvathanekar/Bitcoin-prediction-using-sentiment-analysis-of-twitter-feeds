{
 "cells": [
  {
   "cell_type": "markdown",
   "metadata": {},
   "source": [
    "# Import stuff"
   ]
  },
  {
   "cell_type": "code",
   "execution_count": 1,
   "metadata": {},
   "outputs": [],
   "source": [
    "import pyspark\n",
    "from pyspark import SparkContext,SQLContext\n",
    "sc = SparkContext.getOrCreate()"
   ]
  },
  {
   "cell_type": "code",
   "execution_count": 2,
   "metadata": {},
   "outputs": [],
   "source": [
    "bitCoinPrices = sc.textFile('bitcoinprices.txt')"
   ]
  },
  {
   "cell_type": "markdown",
   "metadata": {},
   "source": [
    "### splits that string into a list of parts "
   ]
  },
  {
   "cell_type": "code",
   "execution_count": 3,
   "metadata": {
    "scrolled": true
   },
   "outputs": [
    {
     "data": {
      "text/plain": [
       "[['24-01-2019 18:13', '3599.139761'],\n",
       " ['04-02-2019 13:47', '3470.773629'],\n",
       " ['13-02-2019 07:49', '3646.574185'],\n",
       " ['14-02-2019 08:30', '3635.891687'],\n",
       " ['20-01-2019 11:13', '3730.922146'],\n",
       " ['15-01-2019 12:10', '3695.74985'],\n",
       " ['05-01-2019 11:43', '3900.515423'],\n",
       " ['04-02-2019 13:34', '3474.445685'],\n",
       " ['20-01-2019 11:21', '3733.551504'],\n",
       " ['07-02-2019 19:08', '3417.109918']]"
      ]
     },
     "execution_count": 3,
     "metadata": {},
     "output_type": "execute_result"
    }
   ],
   "source": [
    "bitCoinPrices.map(lambda x: x.split(',')).take(10)"
   ]
  },
  {
   "cell_type": "markdown",
   "metadata": {},
   "source": [
    "### Read a CSV file into a Spark DataFrame"
   ]
  },
  {
   "cell_type": "code",
   "execution_count": 4,
   "metadata": {},
   "outputs": [],
   "source": [
    "bitCoinPrices=spark.read.csv('bitcoinprices.txt', mode=\"DROPMALFORMED\",inferSchema=True, header = False)"
   ]
  },
  {
   "cell_type": "markdown",
   "metadata": {},
   "source": [
    "### Rename Column C0 with Date and C1 with Price"
   ]
  },
  {
   "cell_type": "code",
   "execution_count": 5,
   "metadata": {},
   "outputs": [],
   "source": [
    "bitCoinPrices = bitCoinPrices.withColumnRenamed('_c0','date').withColumnRenamed('_c1','price')"
   ]
  },
  {
   "cell_type": "code",
   "execution_count": 6,
   "metadata": {
    "scrolled": true
   },
   "outputs": [
    {
     "data": {
      "text/plain": [
       "[Row(date='01-01-2019 18:33', price=3765.820089),\n",
       " Row(date='01-01-2019 18:35', price=3767.706964),\n",
       " Row(date='01-01-2019 18:36', price=3767.706964),\n",
       " Row(date='01-01-2019 18:37', price=3767.706964),\n",
       " Row(date='01-01-2019 18:38', price=3768.422508),\n",
       " Row(date='01-01-2019 18:39', price=3768.422508),\n",
       " Row(date='01-01-2019 18:40', price=3768.422508),\n",
       " Row(date='01-01-2019 18:41', price=3764.16957),\n",
       " Row(date='01-01-2019 18:42', price=3764.16957),\n",
       " Row(date='01-01-2019 18:43', price=3764.16957),\n",
       " Row(date='01-01-2019 18:44', price=3772.656295),\n",
       " Row(date='01-01-2019 18:45', price=3772.656295),\n",
       " Row(date='01-01-2019 18:46', price=3771.072375),\n",
       " Row(date='01-01-2019 18:47', price=3771.072375),\n",
       " Row(date='01-01-2019 18:48', price=3771.072375),\n",
       " Row(date='01-01-2019 18:49', price=3763.309002),\n",
       " Row(date='01-01-2019 18:50', price=3763.309002),\n",
       " Row(date='01-01-2019 18:51', price=3763.309002),\n",
       " Row(date='01-01-2019 18:52', price=3763.311666),\n",
       " Row(date='01-01-2019 18:53', price=3763.311666),\n",
       " Row(date='01-01-2019 18:54', price=3763.311666),\n",
       " Row(date='01-01-2019 18:55', price=3762.903056),\n",
       " Row(date='01-01-2019 18:56', price=3762.903056),\n",
       " Row(date='01-01-2019 18:57', price=3762.903056),\n",
       " Row(date='02-01-2019 12:29', price=3821.812298),\n",
       " Row(date='02-01-2019 12:30', price=3820.943506),\n",
       " Row(date='02-01-2019 12:31', price=3820.943506),\n",
       " Row(date='02-01-2019 12:32', price=3819.782664),\n",
       " Row(date='02-01-2019 12:33', price=3819.782664),\n",
       " Row(date='02-01-2019 12:34', price=3819.782664),\n",
       " Row(date='02-01-2019 12:35', price=3816.979507),\n",
       " Row(date='02-01-2019 12:36', price=3816.979507),\n",
       " Row(date='02-01-2019 12:37', price=3816.979507),\n",
       " Row(date='02-01-2019 12:38', price=3819.132573),\n",
       " Row(date='02-01-2019 12:39', price=3819.132573),\n",
       " Row(date='02-01-2019 12:40', price=3819.132573),\n",
       " Row(date='02-01-2019 12:41', price=3819.132573),\n",
       " Row(date='02-01-2019 12:42', price=3822.931485),\n",
       " Row(date='02-01-2019 12:43', price=3822.931485),\n",
       " Row(date='02-01-2019 12:44', price=3822.931485),\n",
       " Row(date='02-01-2019 12:45', price=3827.85772),\n",
       " Row(date='02-01-2019 12:47', price=3830.295802),\n",
       " Row(date='02-01-2019 12:48', price=3830.295802),\n",
       " Row(date='02-01-2019 12:49', price=3830.295802),\n",
       " Row(date='02-01-2019 12:50', price=3830.295802),\n",
       " Row(date='02-01-2019 12:51', price=3832.769544),\n",
       " Row(date='02-01-2019 12:52', price=3832.769544),\n",
       " Row(date='02-01-2019 12:53', price=3832.769544),\n",
       " Row(date='02-01-2019 12:54', price=3832.508143),\n",
       " Row(date='02-01-2019 12:55', price=3832.508143),\n",
       " Row(date='03-01-2019 14:38', price=3879.588021),\n",
       " Row(date='03-01-2019 14:39', price=3879.588021),\n",
       " Row(date='03-01-2019 14:40', price=3880.153186),\n",
       " Row(date='03-01-2019 14:41', price=3880.153186),\n",
       " Row(date='03-01-2019 14:42', price=3880.153186),\n",
       " Row(date='03-01-2019 14:43', price=3880.974158),\n",
       " Row(date='03-01-2019 14:44', price=3880.974158),\n",
       " Row(date='03-01-2019 14:45', price=3880.974158),\n",
       " Row(date='03-01-2019 14:46', price=3878.033266),\n",
       " Row(date='03-01-2019 14:47', price=3878.033266),\n",
       " Row(date='03-01-2019 14:48', price=3878.033266),\n",
       " Row(date='03-01-2019 14:49', price=3882.916873),\n",
       " Row(date='03-01-2019 14:50', price=3882.916873),\n",
       " Row(date='03-01-2019 14:52', price=3885.21172),\n",
       " Row(date='03-01-2019 14:53', price=3885.21172),\n",
       " Row(date='03-01-2019 14:54', price=3885.21172),\n",
       " Row(date='03-01-2019 14:55', price=3881.241493),\n",
       " Row(date='03-01-2019 14:56', price=3881.241493),\n",
       " Row(date='03-01-2019 14:57', price=3877.346742),\n",
       " Row(date='03-01-2019 14:58', price=3877.346742),\n",
       " Row(date='03-01-2019 14:59', price=3877.346742),\n",
       " Row(date='03-01-2019 15:00', price=3877.577458),\n",
       " Row(date='03-01-2019 15:01', price=3877.577458),\n",
       " Row(date='03-01-2019 15:02', price=3877.577458),\n",
       " Row(date='03-01-2019 15:03', price=3877.1047),\n",
       " Row(date='04-01-2019 19:32', price=3813.21958),\n",
       " Row(date='04-01-2019 19:33', price=3813.21958),\n",
       " Row(date='04-01-2019 19:34', price=3813.21958),\n",
       " Row(date='04-01-2019 19:36', price=3814.534299),\n",
       " Row(date='04-01-2019 19:37', price=3814.534299),\n",
       " Row(date='04-01-2019 19:38', price=3816.471475),\n",
       " Row(date='04-01-2019 19:39', price=3816.471475),\n",
       " Row(date='04-01-2019 19:40', price=3816.12864),\n",
       " Row(date='04-01-2019 19:41', price=3816.12864),\n",
       " Row(date='04-01-2019 19:42', price=3816.12864),\n",
       " Row(date='04-01-2019 19:43', price=3817.539198),\n",
       " Row(date='04-01-2019 19:44', price=3817.539198),\n",
       " Row(date='04-01-2019 19:45', price=3817.539198),\n",
       " Row(date='04-01-2019 19:46', price=3818.352043),\n",
       " Row(date='04-01-2019 19:47', price=3818.352043),\n",
       " Row(date='04-01-2019 19:48', price=3818.352043),\n",
       " Row(date='04-01-2019 19:49', price=3813.274634),\n",
       " Row(date='04-01-2019 19:50', price=3813.274634),\n",
       " Row(date='04-01-2019 19:51', price=3813.274634),\n",
       " Row(date='04-01-2019 19:52', price=3813.053464),\n",
       " Row(date='04-01-2019 19:53', price=3813.053464),\n",
       " Row(date='04-01-2019 19:54', price=3813.053464),\n",
       " Row(date='04-01-2019 19:55', price=3817.984093),\n",
       " Row(date='04-01-2019 19:56', price=3817.984093),\n",
       " Row(date='04-01-2019 19:57', price=3817.984093),\n",
       " Row(date='04-02-2019 13:26', price=3464.482806)]"
      ]
     },
     "execution_count": 6,
     "metadata": {},
     "output_type": "execute_result"
    }
   ],
   "source": [
    "bitCoinPrices.sort('date').head(101)"
   ]
  },
  {
   "cell_type": "markdown",
   "metadata": {},
   "source": [
    "### Read a CSV file into a Spark DataFrame"
   ]
  },
  {
   "cell_type": "code",
   "execution_count": 7,
   "metadata": {},
   "outputs": [],
   "source": [
    "tweetSents=spark.read.csv('sentiment6.txt', mode=\"DROPMALFORMED\",inferSchema=True, header = False)"
   ]
  },
  {
   "cell_type": "markdown",
   "metadata": {},
   "source": [
    "### Rename Column C0 with Date and C1 with Sentimentprob "
   ]
  },
  {
   "cell_type": "code",
   "execution_count": 8,
   "metadata": {},
   "outputs": [],
   "source": [
    "tweetSents = tweetSents.withColumnRenamed('_c0','date').withColumnRenamed('_c1','SentimentProb')"
   ]
  },
  {
   "cell_type": "code",
   "execution_count": 9,
   "metadata": {},
   "outputs": [
    {
     "data": {
      "text/plain": [
       "[Row(date='01-01-2019 18:33', SentimentProb=0.097455824),\n",
       " Row(date='01-01-2019 18:35', SentimentProb=0.097455824),\n",
       " Row(date='01-01-2019 18:36', SentimentProb=0.095617943),\n",
       " Row(date='01-01-2019 18:37', SentimentProb=0.095617943),\n",
       " Row(date='01-01-2019 18:38', SentimentProb=0.095617943),\n",
       " Row(date='01-01-2019 18:39', SentimentProb=0.095617943),\n",
       " Row(date='01-01-2019 18:40', SentimentProb=0.095617943),\n",
       " Row(date='01-01-2019 18:41', SentimentProb=0.095617943),\n",
       " Row(date='01-01-2019 18:42', SentimentProb=0.097455824),\n",
       " Row(date='01-01-2019 18:43', SentimentProb=0.098073991),\n",
       " Row(date='01-01-2019 18:44', SentimentProb=0.098073991),\n",
       " Row(date='01-01-2019 18:45', SentimentProb=0.098073991),\n",
       " Row(date='01-01-2019 18:46', SentimentProb=0.098073991),\n",
       " Row(date='01-01-2019 18:47', SentimentProb=0.098073991),\n",
       " Row(date='01-01-2019 18:48', SentimentProb=0.101294061),\n",
       " Row(date='01-01-2019 18:49', SentimentProb=0.096603403),\n",
       " Row(date='01-01-2019 18:50', SentimentProb=0.092325328),\n",
       " Row(date='01-01-2019 18:51', SentimentProb=0.092325328),\n",
       " Row(date='01-01-2019 18:52', SentimentProb=0.086442975),\n",
       " Row(date='01-01-2019 18:53', SentimentProb=0.086442975),\n",
       " Row(date='01-01-2019 18:54', SentimentProb=0.086442975),\n",
       " Row(date='01-01-2019 18:55', SentimentProb=0.086442975),\n",
       " Row(date='01-01-2019 18:56', SentimentProb=0.086023178),\n",
       " Row(date='01-01-2019 18:57', SentimentProb=0.086023178),\n",
       " Row(date='01-01-2019 18:58', SentimentProb=0.086023178),\n",
       " Row(date='02-01-2019 12:29', SentimentProb=0.146563624),\n",
       " Row(date='02-01-2019 12:30', SentimentProb=0.137069954),\n",
       " Row(date='02-01-2019 12:31', SentimentProb=0.137069954),\n",
       " Row(date='02-01-2019 12:32', SentimentProb=0.134327338),\n",
       " Row(date='02-01-2019 12:33', SentimentProb=0.127998224),\n",
       " Row(date='02-01-2019 12:34', SentimentProb=0.127998224),\n",
       " Row(date='02-01-2019 12:35', SentimentProb=0.142459739),\n",
       " Row(date='02-01-2019 12:36', SentimentProb=0.142459739),\n",
       " Row(date='02-01-2019 12:37', SentimentProb=0.142459739),\n",
       " Row(date='02-01-2019 12:38', SentimentProb=0.142459739),\n",
       " Row(date='02-01-2019 12:39', SentimentProb=0.141922274),\n",
       " Row(date='02-01-2019 12:40', SentimentProb=0.143188097),\n",
       " Row(date='02-01-2019 12:41', SentimentProb=0.143188097),\n",
       " Row(date='02-01-2019 12:42', SentimentProb=0.137702865),\n",
       " Row(date='02-01-2019 12:43', SentimentProb=0.140867422),\n",
       " Row(date='02-01-2019 12:44', SentimentProb=0.142673415),\n",
       " Row(date='02-01-2019 12:45', SentimentProb=0.142673415),\n",
       " Row(date='02-01-2019 12:47', SentimentProb=0.149083671),\n",
       " Row(date='02-01-2019 12:48', SentimentProb=0.149083671),\n",
       " Row(date='02-01-2019 12:49', SentimentProb=0.148040418),\n",
       " Row(date='02-01-2019 12:50', SentimentProb=0.146189913),\n",
       " Row(date='02-01-2019 12:51', SentimentProb=0.145208144),\n",
       " Row(date='02-01-2019 12:52', SentimentProb=0.145208144),\n",
       " Row(date='02-01-2019 12:53', SentimentProb=0.145208144),\n",
       " Row(date='02-01-2019 12:54', SentimentProb=0.140152295),\n",
       " Row(date='03-01-2019 14:38', SentimentProb=0.028334567),\n",
       " Row(date='03-01-2019 14:39', SentimentProb=0.028334567),\n",
       " Row(date='03-01-2019 14:40', SentimentProb=0.027527313),\n",
       " Row(date='03-01-2019 14:41', SentimentProb=0.023996001),\n",
       " Row(date='03-01-2019 14:42', SentimentProb=0.021791415),\n",
       " Row(date='03-01-2019 14:43', SentimentProb=0.021791415),\n",
       " Row(date='03-01-2019 14:44', SentimentProb=0.021791415),\n",
       " Row(date='03-01-2019 14:45', SentimentProb=0.021791415),\n",
       " Row(date='03-01-2019 14:46', SentimentProb=0.025357175),\n",
       " Row(date='03-01-2019 14:47', SentimentProb=0.025357175),\n",
       " Row(date='03-01-2019 14:48', SentimentProb=0.025357175),\n",
       " Row(date='03-01-2019 14:49', SentimentProb=0.025759669),\n",
       " Row(date='03-01-2019 14:50', SentimentProb=0.026175148),\n",
       " Row(date='03-01-2019 14:52', SentimentProb=0.025759669),\n",
       " Row(date='03-01-2019 14:53', SentimentProb=0.025759669),\n",
       " Row(date='03-01-2019 14:54', SentimentProb=0.023114167),\n",
       " Row(date='03-01-2019 14:55', SentimentProb=0.023114167),\n",
       " Row(date='03-01-2019 14:56', SentimentProb=0.023114167),\n",
       " Row(date='03-01-2019 14:57', SentimentProb=0.023114167),\n",
       " Row(date='03-01-2019 14:58', SentimentProb=0.023114167),\n",
       " Row(date='03-01-2019 14:59', SentimentProb=0.023114167),\n",
       " Row(date='03-01-2019 15:00', SentimentProb=0.023114167),\n",
       " Row(date='03-01-2019 15:01', SentimentProb=0.023114167),\n",
       " Row(date='03-01-2019 15:02', SentimentProb=0.023486976),\n",
       " Row(date='03-01-2019 15:03', SentimentProb=0.023486976),\n",
       " Row(date='04-01-2019 19:32', SentimentProb=0.087567436),\n",
       " Row(date='04-01-2019 19:33', SentimentProb=0.087567436),\n",
       " Row(date='04-01-2019 19:34', SentimentProb=0.081885618),\n",
       " Row(date='04-01-2019 19:36', SentimentProb=0.080965554),\n",
       " Row(date='04-01-2019 19:37', SentimentProb=0.080965554),\n",
       " Row(date='04-01-2019 19:38', SentimentProb=0.082370049),\n",
       " Row(date='04-01-2019 19:39', SentimentProb=0.092565937),\n",
       " Row(date='04-01-2019 19:40', SentimentProb=0.089325196),\n",
       " Row(date='04-01-2019 19:41', SentimentProb=0.089325196),\n",
       " Row(date='04-01-2019 19:42', SentimentProb=0.090436308),\n",
       " Row(date='04-01-2019 19:43', SentimentProb=0.090436308),\n",
       " Row(date='04-01-2019 19:44', SentimentProb=0.090436308),\n",
       " Row(date='04-01-2019 19:45', SentimentProb=0.090436308),\n",
       " Row(date='04-01-2019 19:46', SentimentProb=0.095332587),\n",
       " Row(date='04-01-2019 19:47', SentimentProb=0.094175562),\n",
       " Row(date='04-01-2019 19:48', SentimentProb=0.094175562),\n",
       " Row(date='04-01-2019 19:49', SentimentProb=0.094175562),\n",
       " Row(date='04-01-2019 19:50', SentimentProb=0.094175562),\n",
       " Row(date='04-01-2019 19:51', SentimentProb=0.094175562),\n",
       " Row(date='04-01-2019 19:52', SentimentProb=0.094175562),\n",
       " Row(date='04-01-2019 19:53', SentimentProb=0.090177629),\n",
       " Row(date='04-01-2019 19:54', SentimentProb=0.090177629),\n",
       " Row(date='04-01-2019 19:55', SentimentProb=0.090177629),\n",
       " Row(date='04-01-2019 19:56', SentimentProb=0.091973386),\n",
       " Row(date='04-02-2019 13:26', SentimentProb=0.064260472),\n",
       " Row(date='04-02-2019 13:27', SentimentProb=0.071319296)]"
      ]
     },
     "execution_count": 9,
     "metadata": {},
     "output_type": "execute_result"
    }
   ],
   "source": [
    "tweetSents.sort('date').head(101)"
   ]
  },
  {
   "cell_type": "markdown",
   "metadata": {},
   "source": [
    "### Import stuff"
   ]
  },
  {
   "cell_type": "code",
   "execution_count": 10,
   "metadata": {},
   "outputs": [],
   "source": [
    "import pandas"
   ]
  },
  {
   "cell_type": "code",
   "execution_count": 11,
   "metadata": {},
   "outputs": [],
   "source": [
    "import ts.flint\n",
    "from ts.flint import FlintContext"
   ]
  },
  {
   "cell_type": "markdown",
   "metadata": {},
   "source": [
    "### Define the model by calling ARIMA() and passing in the p, d, and q parameters."
   ]
  },
  {
   "cell_type": "markdown",
   "metadata": {},
   "source": [
    "### The statsmodels library provides the capability to fit an ARIMA model.\n",
    "An ARIMA model can be created using the statsmodels library as follows:\n",
    "1. Define the model by calling ARIMA() and passing in the p, d, and q parameters.\n",
    "2. The model is prepared on the training data by calling the fit() function.\n",
    "3. Predictions can be made by calling the predict() function and specifying the index of the time or times to be predicted."
   ]
  },
  {
   "cell_type": "markdown",
   "metadata": {},
   "source": [
    "### We fit an ARIMA(12,1,0) model. This sets the lag value to 12 for autoregression, uses a difference order of 1 to make the time series stationary, and uses a moving average model of 0.\n",
    "### When fitting the model, a lot of debug information is provided about the fit of the linear regression model. We can turn this off by setting the disp argument to 0."
   ]
  },
  {
   "cell_type": "code",
   "execution_count": 14,
   "metadata": {
    "scrolled": true
   },
   "outputs": [
    {
     "name": "stderr",
     "output_type": "stream",
     "text": [
      "C:\\Users\\Atharva\\Anaconda3\\lib\\site-packages\\statsmodels\\tsa\\base\\tsa_model.py:225: ValueWarning: A date index has been provided, but it has no associated frequency information and so will be ignored when e.g. forecasting.\n",
      "  ' ignored when e.g. forecasting.', ValueWarning)\n",
      "C:\\Users\\Atharva\\Anaconda3\\lib\\site-packages\\statsmodels\\tsa\\base\\tsa_model.py:225: ValueWarning: A date index has been provided, but it has no associated frequency information and so will be ignored when e.g. forecasting.\n",
      "  ' ignored when e.g. forecasting.', ValueWarning)\n",
      "C:\\Users\\Atharva\\Anaconda3\\lib\\site-packages\\scipy\\signal\\signaltools.py:1341: FutureWarning: Using a non-tuple sequence for multidimensional indexing is deprecated; use `arr[tuple(seq)]` instead of `arr[seq]`. In the future this will be interpreted as an array index, `arr[np.array(seq)]`, which will result either in an error or a different result.\n",
      "  out_full[ind] += zi\n",
      "C:\\Users\\Atharva\\Anaconda3\\lib\\site-packages\\scipy\\signal\\signaltools.py:1344: FutureWarning: Using a non-tuple sequence for multidimensional indexing is deprecated; use `arr[tuple(seq)]` instead of `arr[seq]`. In the future this will be interpreted as an array index, `arr[np.array(seq)]`, which will result either in an error or a different result.\n",
      "  out = out_full[ind]\n",
      "C:\\Users\\Atharva\\Anaconda3\\lib\\site-packages\\scipy\\signal\\signaltools.py:1350: FutureWarning: Using a non-tuple sequence for multidimensional indexing is deprecated; use `arr[tuple(seq)]` instead of `arr[seq]`. In the future this will be interpreted as an array index, `arr[np.array(seq)]`, which will result either in an error or a different result.\n",
      "  zf = out_full[ind]\n"
     ]
    },
    {
     "name": "stdout",
     "output_type": "stream",
     "text": [
      "                             ARIMA Model Results                              \n",
      "==============================================================================\n",
      "Dep. Variable:          D.3599.139761   No. Observations:                  823\n",
      "Model:                ARIMA(12, 1, 0)   Log Likelihood               -5446.597\n",
      "Method:                       css-mle   S.D. of innovations            180.903\n",
      "Date:                Sun, 17 Feb 2019   AIC                          10921.195\n",
      "Time:                        18:17:03   BIC                          10987.176\n",
      "Sample:                             1   HQIC                         10946.508\n",
      "                                                                              \n",
      "========================================================================================\n",
      "                           coef    std err          z      P>|z|      [0.025      0.975]\n",
      "----------------------------------------------------------------------------------------\n",
      "const                    0.1053      0.892      0.118      0.906      -1.642       1.853\n",
      "ar.L1.D.3599.139761     -0.9157      0.035    -26.314      0.000      -0.984      -0.848\n",
      "ar.L2.D.3599.139761     -0.8242      0.047    -17.521      0.000      -0.916      -0.732\n",
      "ar.L3.D.3599.139761     -0.7761      0.055    -14.201      0.000      -0.883      -0.669\n",
      "ar.L4.D.3599.139761     -0.7159      0.060    -11.925      0.000      -0.834      -0.598\n",
      "ar.L5.D.3599.139761     -0.6507      0.064    -10.203      0.000      -0.776      -0.526\n",
      "ar.L6.D.3599.139761     -0.6240      0.066     -9.493      0.000      -0.753      -0.495\n",
      "ar.L7.D.3599.139761     -0.4694      0.066     -7.141      0.000      -0.598      -0.341\n",
      "ar.L8.D.3599.139761     -0.3726      0.064     -5.843      0.000      -0.498      -0.248\n",
      "ar.L9.D.3599.139761     -0.3266      0.060     -5.440      0.000      -0.444      -0.209\n",
      "ar.L10.D.3599.139761    -0.2268      0.055     -4.145      0.000      -0.334      -0.120\n",
      "ar.L11.D.3599.139761    -0.1402      0.047     -2.979      0.003      -0.232      -0.048\n",
      "ar.L12.D.3599.139761    -0.0642      0.035     -1.841      0.066      -0.133       0.004\n",
      "                                    Roots                                     \n",
      "==============================================================================\n",
      "                   Real          Imaginary           Modulus         Frequency\n",
      "------------------------------------------------------------------------------\n",
      "AR.1             0.9754           -0.6325j            1.1625           -0.0916\n",
      "AR.2             0.9754           +0.6325j            1.1625            0.0916\n",
      "AR.3             0.6314           -1.0362j            1.2134           -0.1629\n",
      "AR.4             0.6314           +1.0362j            1.2134            0.1629\n",
      "AR.5            -1.2962           -0.3133j            1.3335           -0.4623\n",
      "AR.6            -1.2962           +0.3133j            1.3335            0.4623\n",
      "AR.7            -0.9880           -0.7570j            1.2447           -0.3959\n",
      "AR.8            -0.9880           +0.7570j            1.2447            0.3959\n",
      "AR.9             0.0105           -1.2883j            1.2884           -0.2487\n",
      "AR.10            0.0105           +1.2883j            1.2884            0.2487\n",
      "AR.11           -0.4246           -1.2372j            1.3080           -0.3026\n",
      "AR.12           -0.4246           +1.2372j            1.3080            0.3026\n",
      "------------------------------------------------------------------------------\n"
     ]
    },
    {
     "data": {
      "image/png": "[encoded data removed]",
      "text/plain": [
       "<Figure size 432x288 with 1 Axes>"
      ]
     },
     "metadata": {
      "needs_background": "light"
     },
     "output_type": "display_data"
    },
    {
     "data": {
      "image/png": "[encoded data removed]",
      "text/plain": [
       "<Figure size 432x288 with 1 Axes>"
      ]
     },
     "metadata": {
      "needs_background": "light"
     },
     "output_type": "display_data"
    },
    {
     "name": "stdout",
     "output_type": "stream",
     "text": [
      "                0\n",
      "count  823.000000\n",
      "mean     0.466582\n",
      "std    181.138940\n",
      "min   -402.310831\n",
      "25%   -113.098287\n",
      "50%    -28.787713\n",
      "75%     90.385882\n",
      "max    465.923982\n"
     ]
    }
   ],
   "source": [
    "from pandas import read_csv\n",
    "from pandas import datetime\n",
    "from pandas import DataFrame\n",
    "from statsmodels.tsa.arima_model import ARIMA\n",
    "from matplotlib import pyplot\n",
    "def parser(x):\n",
    "    return datetime.strptime(x, '%d-%m-%Y %H:%M')\n",
    "\n",
    "series = read_csv('bitcoinprices.txt', header=0, parse_dates=[0], index_col=0, squeeze=True, date_parser=parser)\n",
    "\n",
    "# fit model\n",
    "model = ARIMA(series, order=(12,1,0))\n",
    "model_fit = model.fit(disp=0)\n",
    "print(model_fit.summary())\n",
    "\n",
    "# plot residual errors\n",
    "residuals = DataFrame(model_fit.resid)\n",
    "residuals.plot()\n",
    "pyplot.show()\n",
    "residuals.plot(kind='kde')\n",
    "pyplot.show()\n",
    "print(residuals.describe())"
   ]
  },
  {
   "cell_type": "markdown",
   "metadata": {},
   "source": [
    "#### Running the example prints a summary of the fit model. This summarizes the coefficient values used as well as the skill of the fit on the on the in-sample observations. \n",
    "\n",
    "1.First, we get a line plot of the residual errors, suggesting that there may still be some trend information not captured by the model.\n",
    "\n",
    "2.we get a density plot of the residual error values, suggesting the errors are Gaussian, but may not be centered on zero.\n",
    "\n",
    "3.Next, we get a density plot of the residual error values, suggesting the errors are Gaussian, but may not be centered on zero."
   ]
  },
  {
   "cell_type": "markdown",
   "metadata": {},
   "source": [
    "# Running the example prints the first 5 rows of the dataset."
   ]
  },
  {
   "cell_type": "code",
   "execution_count": 17,
   "metadata": {
    "scrolled": true
   },
   "outputs": [
    {
     "data": {
      "text/html": [
       "<div>\n",
       "<style scoped>\n",
       "    .dataframe tbody tr th:only-of-type {\n",
       "        vertical-align: middle;\n",
       "    }\n",
       "\n",
       "    .dataframe tbody tr th {\n",
       "        vertical-align: top;\n",
       "    }\n",
       "\n",
       "    .dataframe thead th {\n",
       "        text-align: right;\n",
       "    }\n",
       "</style>\n",
       "<table border=\"1\" class=\"dataframe\">\n",
       "  <thead>\n",
       "    <tr style=\"text-align: right;\">\n",
       "      <th></th>\n",
       "      <th>time</th>\n",
       "      <th>price</th>\n",
       "    </tr>\n",
       "  </thead>\n",
       "  <tbody>\n",
       "    <tr>\n",
       "      <th>0</th>\n",
       "      <td>2019-01-24 18:13:00</td>\n",
       "      <td>3599.139761</td>\n",
       "    </tr>\n",
       "    <tr>\n",
       "      <th>1</th>\n",
       "      <td>2019-02-04 13:47:00</td>\n",
       "      <td>3470.773629</td>\n",
       "    </tr>\n",
       "    <tr>\n",
       "      <th>2</th>\n",
       "      <td>2019-02-13 07:49:00</td>\n",
       "      <td>3646.574185</td>\n",
       "    </tr>\n",
       "    <tr>\n",
       "      <th>3</th>\n",
       "      <td>2019-02-14 08:30:00</td>\n",
       "      <td>3635.891687</td>\n",
       "    </tr>\n",
       "    <tr>\n",
       "      <th>4</th>\n",
       "      <td>2019-01-20 11:13:00</td>\n",
       "      <td>3730.922146</td>\n",
       "    </tr>\n",
       "  </tbody>\n",
       "</table>\n",
       "</div>"
      ],
      "text/plain": [
       "                 time        price\n",
       "0 2019-01-24 18:13:00  3599.139761\n",
       "1 2019-02-04 13:47:00  3470.773629\n",
       "2 2019-02-13 07:49:00  3646.574185\n",
       "3 2019-02-14 08:30:00  3635.891687\n",
       "4 2019-01-20 11:13:00  3730.922146"
      ]
     },
     "execution_count": 17,
     "metadata": {},
     "output_type": "execute_result"
    }
   ],
   "source": [
    "from pandas import read_csv\n",
    "from pandas import datetime\n",
    "from pandas import DataFrame\n",
    "from statsmodels.tsa.arima_model import ARIMA\n",
    "from matplotlib import pyplot\n",
    "def parser(x):\n",
    "    return datetime.strptime(x, '%d-%m-%Y %H:%M')\n",
    "\n",
    "y = read_csv('bitcoinprices.txt', header=None,names=['time','price'], parse_dates=[0], index_col=False, squeeze=True, date_parser=parser)\n",
    "y.head()\n"
   ]
  },
  {
   "cell_type": "code",
   "execution_count": 18,
   "metadata": {},
   "outputs": [],
   "source": [
    "#x=y.sort([\"time\"])\n",
    "x = y.sort_values('time',axis=0)\n",
    "x.to_csv('bitcoinsort.csv', index=False)"
   ]
  },
  {
   "cell_type": "markdown",
   "metadata": {},
   "source": [
    "# Rolling Forecast ARIMA Model"
   ]
  },
  {
   "cell_type": "code",
   "execution_count": 20,
   "metadata": {
    "scrolled": false
   },
   "outputs": [
    {
     "name": "stdout",
     "output_type": "stream",
     "text": [
      "predicted=3604.969805, expected=3605.262122\n",
      "predicted=3604.952544, expected=3604.278413\n",
      "predicted=3603.991061, expected=3604.278413\n",
      "predicted=3603.979790, expected=3604.097795\n",
      "predicted=3603.798750, expected=3604.097795\n",
      "predicted=3603.802026, expected=3604.097795\n",
      "predicted=3603.799524, expected=3591.121327\n",
      "predicted=3590.847791, expected=3591.121327\n",
      "predicted=3590.771933, expected=3591.121327\n",
      "predicted=3590.767037, expected=3590.826052\n",
      "predicted=3590.547743, expected=3590.826052\n",
      "predicted=3590.503053, expected=3590.826052\n",
      "predicted=3590.513689, expected=3590.401235\n",
      "predicted=3590.080347, expected=3590.401235\n",
      "predicted=3590.174684, expected=3590.401235\n",
      "predicted=3590.034600, expected=3591.711829\n",
      "predicted=3591.367667, expected=3591.711829\n",
      "predicted=3591.452487, expected=3591.711829\n",
      "predicted=3591.395813, expected=3592.161890\n",
      "predicted=3591.844585, expected=3592.161890\n",
      "predicted=3591.857467, expected=3592.161890\n",
      "predicted=3591.852049, expected=3594.028588\n",
      "predicted=3593.714711, expected=3594.028588\n",
      "predicted=3593.720708, expected=3594.028588\n",
      "predicted=3593.735063, expected=3596.929834\n",
      "predicted=3596.617783, expected=3596.929834\n",
      "predicted=3596.631294, expected=3596.929834\n",
      "predicted=3596.644202, expected=3598.480888\n",
      "predicted=3598.173083, expected=3598.480888\n",
      "predicted=3598.177092, expected=3599.139761\n",
      "predicted=3598.857446, expected=3599.139761\n",
      "predicted=3598.849708, expected=3583.221753\n",
      "predicted=3582.933085, expected=3583.221753\n",
      "predicted=3582.874543, expected=3583.493575\n",
      "predicted=3583.126600, expected=3583.493575\n",
      "predicted=3583.210858, expected=3583.493575\n",
      "predicted=3583.180194, expected=3581.808612\n",
      "predicted=3581.495573, expected=3581.808612\n",
      "predicted=3581.479516, expected=3581.808612\n",
      "predicted=3581.597997, expected=3581.762751\n",
      "predicted=3581.389667, expected=3581.762751\n",
      "predicted=3581.411222, expected=3581.762751\n",
      "predicted=3581.506627, expected=3581.833929\n",
      "predicted=3581.509889, expected=3581.833929\n",
      "predicted=3581.529691, expected=3581.833929\n",
      "predicted=3581.513496, expected=3581.027398\n",
      "predicted=3580.711128, expected=3581.027398\n",
      "predicted=3580.717270, expected=3578.673908\n",
      "predicted=3578.359906, expected=3578.673908\n",
      "predicted=3578.353295, expected=3578.673908\n",
      "predicted=3578.347953, expected=3578.673908\n",
      "predicted=3578.365802, expected=3580.314788\n",
      "predicted=3579.994645, expected=3580.314788\n",
      "predicted=3580.011507, expected=3580.082561\n",
      "predicted=3579.772774, expected=3580.082561\n",
      "predicted=3579.778802, expected=3580.082561\n",
      "predicted=3579.764972, expected=3644.559097\n",
      "predicted=3644.132828, expected=3644.559097\n",
      "predicted=3644.522139, expected=3643.873020\n",
      "predicted=3643.880746, expected=3643.873020\n",
      "predicted=3643.452168, expected=3642.450107\n",
      "predicted=3642.311431, expected=3642.450107\n",
      "predicted=3642.231732, expected=3642.450107\n",
      "predicted=3642.258488, expected=3639.470758\n",
      "predicted=3638.831976, expected=3639.470758\n",
      "predicted=3639.459285, expected=3639.470758\n",
      "predicted=3639.391154, expected=3637.149953\n",
      "predicted=3636.707249, expected=3637.149953\n",
      "predicted=3636.975740, expected=3637.149953\n",
      "predicted=3636.928521, expected=3636.108546\n",
      "predicted=3635.906350, expected=3636.108546\n",
      "predicted=3635.916854, expected=3636.108546\n",
      "predicted=3635.882405, expected=3636.220059\n",
      "predicted=3636.008347, expected=3636.220059\n",
      "predicted=3636.034753, expected=3637.870678\n",
      "predicted=3637.648128, expected=3637.870678\n",
      "predicted=3637.662943, expected=3637.870678\n",
      "predicted=3637.684633, expected=3638.587176\n",
      "predicted=3638.367820, expected=3638.587176\n",
      "predicted=3638.382959, expected=3638.587176\n",
      "predicted=3638.387333, expected=3641.224551\n",
      "predicted=3641.011348, expected=3464.482806\n",
      "predicted=3464.922072, expected=3464.482806\n",
      "predicted=3463.638262, expected=3466.635114\n",
      "predicted=3465.536935, expected=3466.635114\n",
      "predicted=3466.905441, expected=3466.635114\n",
      "predicted=3466.020237, expected=3472.568436\n",
      "predicted=3472.070444, expected=3472.568436\n",
      "predicted=3472.367679, expected=3472.568436\n",
      "predicted=3473.336533, expected=3474.445685\n",
      "predicted=3473.415648, expected=3474.445685\n",
      "predicted=3473.687350, expected=3474.445685\n",
      "predicted=3474.677052, expected=3474.565593\n",
      "predicted=3473.866156, expected=3474.565593\n",
      "predicted=3474.040574, expected=3474.565593\n",
      "predicted=3474.115652, expected=3471.034114\n",
      "predicted=3470.583199, expected=3471.034114\n",
      "predicted=3470.526501, expected=3471.034114\n",
      "predicted=3470.564461, expected=3472.105485\n",
      "predicted=3471.650011, expected=3472.105485\n",
      "predicted=3471.643501, expected=3472.105485\n",
      "predicted=3471.646886, expected=3470.773629\n",
      "predicted=3470.316140, expected=3470.773629\n",
      "predicted=3470.330572, expected=3470.773629\n",
      "predicted=3470.296762, expected=3472.123169\n",
      "predicted=3471.654784, expected=3472.123169\n",
      "predicted=3471.671966, expected=3473.500500\n",
      "predicted=3473.039139, expected=3473.500500\n",
      "predicted=3473.041100, expected=3473.500500\n",
      "predicted=3473.049036, expected=3468.327837\n",
      "predicted=3467.880942, expected=3468.327837\n",
      "predicted=3467.854691, expected=3468.327837\n",
      "predicted=3467.845337, expected=3468.127388\n",
      "predicted=3467.686753, expected=3468.127388\n",
      "predicted=3467.673201, expected=3468.127388\n",
      "predicted=3467.665707, expected=3468.127388\n",
      "predicted=3467.679450, expected=3465.870504\n",
      "predicted=3465.452840, expected=3465.870504\n",
      "predicted=3465.396786, expected=3467.428964\n",
      "predicted=3466.951183, expected=3467.428964\n",
      "predicted=3467.001336, expected=3467.428964\n",
      "predicted=3466.977889, expected=3468.474086\n",
      "predicted=3468.007398, expected=3468.474086\n",
      "predicted=3468.018968, expected=3468.474086\n",
      "predicted=3468.038793, expected=3467.222054\n",
      "predicted=3466.760594, expected=3467.222054\n",
      "predicted=3466.749648, expected=3467.222054\n",
      "predicted=3466.776221, expected=3466.400183\n",
      "predicted=3465.952519, expected=3466.400183\n",
      "predicted=3465.936099, expected=3466.400183\n",
      "predicted=3465.948582, expected=3466.400183\n",
      "predicted=3465.953934, expected=3420.160570\n",
      "predicted=3419.880777, expected=3420.160570\n",
      "predicted=3419.629006, expected=3420.160570\n",
      "predicted=3419.517685, expected=3420.815973\n",
      "predicted=3420.492747, expected=3420.815973\n",
      "predicted=3420.448440, expected=3420.815973\n",
      "predicted=3420.321279, expected=3420.815973\n",
      "predicted=3420.374229, expected=3416.582347\n",
      "predicted=3416.429370, expected=3416.582347\n",
      "predicted=3415.959537, expected=3415.565683\n",
      "predicted=3415.006274, expected=3415.565683\n",
      "predicted=3415.236991, expected=3415.565683\n",
      "predicted=3415.025444, expected=3415.565683\n",
      "predicted=3415.052591, expected=3416.023908\n",
      "predicted=3415.508075, expected=3416.023908\n",
      "predicted=3415.539255, expected=3421.561391\n",
      "predicted=3421.016858, expected=3421.561391\n",
      "predicted=3421.057285, expected=3421.561391\n",
      "predicted=3421.080394, expected=3420.036128\n",
      "predicted=3419.508443, expected=3420.036128\n",
      "predicted=3419.512546, expected=3420.036128\n",
      "predicted=3419.517616, expected=3420.036128\n",
      "predicted=3419.531158, expected=3417.295916\n",
      "predicted=3416.762736, expected=3417.295916\n",
      "predicted=3416.797761, expected=3415.937620\n",
      "predicted=3415.432539, expected=3415.646611\n",
      "predicted=3415.138862, expected=3415.646611\n",
      "predicted=3415.143147, expected=3417.109918\n",
      "predicted=3416.601281, expected=3417.109918\n",
      "predicted=3416.618829, expected=3417.109918\n",
      "predicted=3416.629956, expected=3418.523224\n",
      "predicted=3418.003058, expected=3418.523224\n",
      "predicted=3418.025811, expected=3418.523224\n",
      "predicted=3418.034735, expected=3418.523224\n",
      "predicted=3418.012248, expected=3416.880748\n",
      "predicted=3416.376232, expected=3416.880748\n",
      "predicted=3416.381905, expected=3413.638150\n",
      "predicted=3413.144611, expected=3413.638150\n",
      "predicted=3413.123264, expected=3413.638150\n",
      "predicted=3413.136196, expected=3413.570040\n",
      "predicted=3413.082363, expected=3413.570040\n",
      "predicted=3413.074710, expected=3413.570040\n",
      "predicted=3413.083600, expected=3416.749596\n",
      "predicted=3416.236915, expected=3416.749596\n",
      "predicted=3416.278450, expected=3416.749596\n",
      "predicted=3416.261461, expected=3416.087033\n",
      "predicted=3415.578814, expected=3416.087033\n",
      "predicted=3415.594620, expected=3416.087033\n",
      "predicted=3415.586930, expected=3415.809510\n",
      "predicted=3415.316516, expected=3415.809510\n",
      "predicted=3415.294452, expected=3450.345840\n",
      "predicted=3449.736139, expected=3450.345840\n",
      "predicted=3449.914245, expected=3449.585257\n",
      "predicted=3449.225720, expected=3449.585257\n",
      "predicted=3449.004398, expected=3452.510052\n",
      "predicted=3451.939089, expected=3452.510052\n"
     ]
    },
    {
     "name": "stdout",
     "output_type": "stream",
     "text": [
      "predicted=3452.062157, expected=3452.510052\n",
      "predicted=3452.048883, expected=3453.083485\n",
      "predicted=3452.385478, expected=3453.083485\n",
      "predicted=3452.720668, expected=3453.083485\n",
      "predicted=3452.678871, expected=3451.962758\n",
      "predicted=3451.394786, expected=3451.962758\n",
      "predicted=3451.534489, expected=3451.962758\n",
      "predicted=3451.535900, expected=3455.341196\n",
      "predicted=3454.901101, expected=3455.341196\n",
      "predicted=3454.902849, expected=3455.341196\n",
      "predicted=3454.927447, expected=3455.341196\n",
      "predicted=3454.903995, expected=3453.259387\n",
      "predicted=3452.835623, expected=3453.259387\n",
      "predicted=3452.827155, expected=3450.315634\n",
      "predicted=3449.889742, expected=3450.315634\n",
      "predicted=3449.871681, expected=3450.315634\n",
      "predicted=3449.891640, expected=3447.797509\n",
      "predicted=3447.390440, expected=3447.797509\n",
      "predicted=3447.362970, expected=3447.797509\n",
      "predicted=3447.378365, expected=3649.575931\n",
      "predicted=3648.490419, expected=3649.575931\n",
      "predicted=3649.546254, expected=3649.575931\n",
      "predicted=3649.649150, expected=3651.697886\n",
      "predicted=3650.859256, expected=3651.697886\n",
      "predicted=3650.975389, expected=3646.574185\n",
      "predicted=3645.960518, expected=3646.574185\n",
      "predicted=3646.291683, expected=3646.574185\n",
      "predicted=3644.738654, expected=3649.911141\n",
      "predicted=3650.277731, expected=3649.911141\n",
      "predicted=3649.966852, expected=3649.911141\n",
      "predicted=3649.064336, expected=3648.538247\n",
      "predicted=3649.101971, expected=3648.538247\n",
      "predicted=3648.390464, expected=3648.538247\n",
      "predicted=3648.352359, expected=3652.754121\n",
      "predicted=3652.592350, expected=3652.754121\n",
      "predicted=3652.616268, expected=3652.754121\n",
      "predicted=3652.607970, expected=3653.528760\n",
      "predicted=3653.368720, expected=3653.528760\n",
      "predicted=3653.351501, expected=3653.528760\n",
      "predicted=3653.382006, expected=3653.528760\n",
      "predicted=3653.375947, expected=3651.471110\n",
      "predicted=3651.308151, expected=3651.471110\n",
      "predicted=3651.323919, expected=3651.390872\n",
      "predicted=3651.239642, expected=3651.390872\n",
      "predicted=3651.226823, expected=3638.205098\n",
      "predicted=3638.117000, expected=3638.205098\n",
      "predicted=3638.036458, expected=3638.205098\n",
      "predicted=3638.006327, expected=3639.365704\n",
      "predicted=3639.245255, expected=3639.365704\n",
      "predicted=3639.271077, expected=3639.365704\n",
      "predicted=3639.227029, expected=3636.529398\n",
      "predicted=3636.382562, expected=3636.529398\n",
      "predicted=3636.414531, expected=3635.556986\n",
      "predicted=3635.352935, expected=3635.556986\n",
      "predicted=3635.383324, expected=3635.556986\n",
      "predicted=3635.448348, expected=3635.152633\n",
      "predicted=3634.953721, expected=3635.152633\n",
      "predicted=3634.991593, expected=3635.152633\n",
      "predicted=3634.995055, expected=3634.711627\n",
      "predicted=3634.543295, expected=3634.711627\n",
      "predicted=3634.547757, expected=3634.711627\n",
      "predicted=3634.551998, expected=3633.689691\n",
      "predicted=3633.515929, expected=3633.689691\n",
      "predicted=3633.528471, expected=3633.689691\n",
      "predicted=3633.515280, expected=3635.891687\n",
      "predicted=3635.719729, expected=3635.891687\n",
      "predicted=3635.736771, expected=3635.891687\n",
      "predicted=3635.730707, expected=3633.805207\n",
      "predicted=3633.639633, expected=3633.805207\n",
      "predicted=3633.631003, expected=3634.981197\n",
      "predicted=3634.798263, expected=3634.757471\n",
      "predicted=3634.596838, expected=3634.757471\n",
      "predicted=3634.598718, expected=3635.976573\n",
      "predicted=3635.809519, expected=3635.976573\n",
      "predicted=3635.810017, expected=3635.976573\n",
      "predicted=3635.816819, expected=3634.982387\n",
      "predicted=3634.820351, expected=3634.982387\n",
      "predicted=3634.802827, expected=3634.982387\n",
      "predicted=3634.825832, expected=3636.801358\n",
      "predicted=3636.628405, expected=3636.801358\n",
      "predicted=3636.635244, expected=3636.502018\n",
      "predicted=3636.354697, expected=3636.502018\n",
      "predicted=3636.336066, expected=3636.502018\n",
      "predicted=3636.329947, expected=3638.331847\n",
      "predicted=3638.164848, expected=3638.331847\n",
      "predicted=3638.174140, expected=3633.381717\n",
      "predicted=3633.235910, expected=3633.381717\n",
      "predicted=3633.211200, expected=3633.381717\n",
      "predicted=3633.199327, expected=3635.886937\n",
      "predicted=3635.718468, expected=3635.886937\n",
      "predicted=3635.759854, expected=3638.490440\n",
      "predicted=3638.328740, expected=3638.490440\n",
      "predicted=3638.333049, expected=3638.490440\n",
      "predicted=3638.351778, expected=3635.606970\n"
     ]
    }
   ],
   "source": [
    "from pandas import read_csv\n",
    "from pandas import datetime\n",
    "from pandas import DataFrame\n",
    "from statsmodels.tsa.arima_model import ARIMA\n",
    "from matplotlib import pyplot\n",
    "import numpy as np\n",
    "def parser(x):    \n",
    "    return datetime.strptime(x, '%Y-%m-%d %H:%M:%S')\n",
    "\n",
    "series = read_csv('bitcoinsort.csv', header='infer', dtype={'time':np.str,'price':np.float64},parse_dates=[0], index_col=0, squeeze=True, date_parser=parser)\n",
    "\n",
    "X = series.values\n",
    "size = int(len(X) * 0.66)\n",
    "train, test = X[0:size], X[size:len(X)]\n",
    "history = [x for x in train]\n",
    "predictions = list()\n",
    "for t in range(len(test)):\n",
    "    model = ARIMA(history, order=(12,1,0))\n",
    "    model_fit = model.fit(disp=0)\n",
    "    output = model_fit.forecast()\n",
    "    yhat = output[0]\n",
    "    predictions.append(yhat)\n",
    "    obs = test[t]\n",
    "    history.append(obs)\n",
    "    print('predicted=%f, expected=%f' % (yhat, obs))"
   ]
  },
  {
   "cell_type": "markdown",
   "metadata": {},
   "source": [
    "### Running the example prints the prediction and expected value each iteration. "
   ]
  },
  {
   "cell_type": "code",
   "execution_count": 21,
   "metadata": {},
   "outputs": [
    {
     "name": "stdout",
     "output_type": "stream",
     "text": [
      "Test MAE: 2.806\n"
     ]
    }
   ],
   "source": [
    "from sklearn.metrics import mean_absolute_error\n",
    "MAE = (mean_absolute_error(test, predictions))\n",
    "print('Test MAE: %.3f' %MAE)"
   ]
  },
  {
   "cell_type": "markdown",
   "metadata": {},
   "source": [
    "### Mean squared error score (MSE)"
   ]
  },
  {
   "cell_type": "code",
   "execution_count": 22,
   "metadata": {
    "scrolled": true
   },
   "outputs": [
    {
     "name": "stdout",
     "output_type": "stream",
     "text": [
      "Test MSE: 286.918\n"
     ]
    },
    {
     "data": {
      "image/png": "[encoded data removed]",
      "text/plain": [
       "<Figure size 432x288 with 1 Axes>"
      ]
     },
     "metadata": {
      "needs_background": "light"
     },
     "output_type": "display_data"
    }
   ],
   "source": [
    "from sklearn.metrics import mean_squared_error\n",
    "error = mean_squared_error(test, predictions)\n",
    "print('Test MSE: %.3f' % error)\n",
    "# plot\n",
    "pyplot.plot(test)\n",
    "pyplot.plot(predictions, color='red')\n",
    "pyplot.show()"
   ]
  },
  {
   "cell_type": "markdown",
   "metadata": {},
   "source": [
    "#### RMSE"
   ]
  },
  {
   "cell_type": "code",
   "execution_count": 23,
   "metadata": {},
   "outputs": [
    {
     "name": "stdout",
     "output_type": "stream",
     "text": [
      "Test RMSE: 16.939\n"
     ]
    }
   ],
   "source": [
    "from sklearn.metrics import mean_squared_error\n",
    "from math import sqrt\n",
    "rmse_1 = sqrt(mean_squared_error(test, predictions))\n",
    "print('Test RMSE: %.3f' % rmse_1)"
   ]
  },
  {
   "cell_type": "code",
   "execution_count": null,
   "metadata": {},
   "outputs": [],
   "source": []
  }
 ],
 "metadata": {
  "kernelspec": {
   "display_name": "Python 3",
   "language": "python",
   "name": "python3"
  },
  "language_info": {
   "codemirror_mode": {
    "name": "ipython",
    "version": 3
   },
   "file_extension": ".py",
   "mimetype": "text/x-python",
   "name": "python",
   "nbconvert_exporter": "python",
   "pygments_lexer": "ipython3",
   "version": "3.7.1"
  }
 },
 "nbformat": 4,
 "nbformat_minor": 2
}
